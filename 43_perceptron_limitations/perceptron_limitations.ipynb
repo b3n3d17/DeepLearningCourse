{
 "cells": [
  {
   "cell_type": "markdown",
   "metadata": {},
   "source": [
    "# Perzeptronfunktionen definieren"
   ]
  },
  {
   "cell_type": "code",
   "execution_count": 98,
   "metadata": {},
   "outputs": [],
   "source": [
    "import numpy as np\n",
    "from random import randint\n",
    "\n",
    "# RELU\n",
    "def f(x):\n",
    "    if x < 0:\n",
    "        return 0\n",
    "    else:\n",
    "        return x\n",
    "    \n",
    "f = np.vectorize(f)\n",
    "\n",
    "def create_new_perceptron(nr_inputs, nr_outputs):\n",
    "    low = -1\n",
    "    high = +1\n",
    "    W = np.random.uniform(low,high, (nr_inputs, nr_outputs) )\n",
    "    return W\n",
    "\n",
    "\n",
    "def test_perceptron(W, x_test, y_test):\n",
    "    \n",
    "    nr_test_samples = x_test.shape[0]    \n",
    "    correct = 0\n",
    "    for test_sample_nr in range(0,nr_test_samples):\n",
    "        \n",
    "        # Berechnet den Output\n",
    "        row_vec = x_test[test_sample_nr, :]\n",
    "        x = np.append(row_vec,[1])\n",
    "        out = predict(W,x)\n",
    "        \n",
    "        # Was wäre richtig gewesen?        \n",
    "        one_hot_vec = y_test[test_sample_nr, :]\n",
    "        gt_label = np.argmax( one_hot_vec )\n",
    "\n",
    "        # Was wurde prädiziert?\n",
    "        is_label = np.argmax( out )\n",
    "\n",
    "        #print(gt_label, is_label)\n",
    "        if is_label == gt_label:\n",
    "            correct += 1     \n",
    "            \n",
    "    print(\"Korrekt: {} von {}\".format(correct,nr_test_samples))\n",
    "    \n",
    "    return correct/nr_test_samples\n",
    "    \n",
    "\n",
    "def train_perceptron(W,\n",
    "                     x_train, y_train,\n",
    "                     x_test, y_test,\n",
    "                     nr_train_steps,\n",
    "                     alpha):\n",
    "    \n",
    "    nr_outputs = y_train.shape[1]\n",
    "    \n",
    "    history = []\n",
    "       \n",
    "    for train_step_nr in range(0, nr_train_steps):\n",
    "        \n",
    "        rnd_img_nr = randint(0,y_train.shape[0]-1)\n",
    "        \n",
    "        # Suche zufällige Zeile aus den\n",
    "        # Trainingsdaten raus\n",
    "        row_vec = x_train[rnd_img_nr, :]        \n",
    "        x = np.append(row_vec,[1])        \n",
    "        out = predict(W,x)\n",
    "        \n",
    "        # Was hätte rauskommen sollen?\n",
    "        one_hot_vec = y_train[rnd_img_nr, :]\n",
    "                                \n",
    "        # Fehlerberechnung        \n",
    "        error = one_hot_vec - out\n",
    "        \n",
    "        # Trainingsschritt\n",
    "        for j in range(0, nr_outputs):\n",
    "            delta_w_vector = alpha * error[j] * x\n",
    "            #if train_step_nr % 100 == 0:\n",
    "            #    print(\"max weight change\", delta_w_vector.max())\n",
    "            W[:,j] =  W[:,j] + delta_w_vector \n",
    "            \n",
    "        if train_step_nr % 100 == 0:\n",
    "            print(\"\\nTrain step: \", train_step_nr)\n",
    "            correct_ratio = test_perceptron(W, x_test, y_test)\n",
    "            history.append( correct_ratio )\n",
    "            \n",
    "    return history\n",
    "\n",
    "\n",
    "def predict(W,x):\n",
    "    act = np.matmul(x, W)\n",
    "    out = f(act)\n",
    "    return out\n",
    "    "
   ]
  },
  {
   "cell_type": "markdown",
   "metadata": {},
   "source": [
    "# Beispieldaten erzeugen"
   ]
  },
  {
   "cell_type": "code",
   "execution_count": 99,
   "metadata": {},
   "outputs": [],
   "source": [
    "min_coord = -1.0\n",
    "max_coord = +1.0\n",
    "nr_train_samples = 1000\n",
    "data_x = np.random.uniform(min_coord,max_coord, (nr_train_samples, 2))"
   ]
  },
  {
   "cell_type": "code",
   "execution_count": 100,
   "metadata": {},
   "outputs": [
    {
     "data": {
      "text/plain": [
       "(1000, 2)"
      ]
     },
     "execution_count": 100,
     "metadata": {},
     "output_type": "execute_result"
    }
   ],
   "source": [
    "data_x.shape"
   ]
  },
  {
   "cell_type": "code",
   "execution_count": 101,
   "metadata": {},
   "outputs": [
    {
     "data": {
      "text/plain": [
       "array([[ 0.0516565 ,  0.78703554],\n",
       "       [ 0.35910097,  0.3064884 ],\n",
       "       [ 0.13864001,  0.72813462],\n",
       "       [ 0.95752532,  0.69394892],\n",
       "       [-0.87809823,  0.31798195],\n",
       "       [ 0.58643025, -0.2129803 ],\n",
       "       [ 0.0690399 ,  0.72441755],\n",
       "       [-0.33738107,  0.04784141],\n",
       "       [-0.77807652,  0.80828144],\n",
       "       [ 0.95295203,  0.92346011]])"
      ]
     },
     "execution_count": 101,
     "metadata": {},
     "output_type": "execute_result"
    }
   ],
   "source": [
    "data_x[:10]"
   ]
  },
  {
   "cell_type": "code",
   "execution_count": 102,
   "metadata": {},
   "outputs": [
    {
     "data": {
      "image/png": "[encoded data removed]",
      "text/plain": [
       "<Figure size 432x288 with 1 Axes>"
      ]
     },
     "metadata": {
      "needs_background": "light"
     },
     "output_type": "display_data"
    }
   ],
   "source": [
    "import matplotlib.pyplot as plt\n",
    "plt.scatter(data_x[:,0], data_x[:,1], color=\"black\")\n",
    "plt.show()"
   ]
  },
  {
   "cell_type": "code",
   "execution_count": 103,
   "metadata": {},
   "outputs": [],
   "source": [
    "# Left/Right\n",
    "def gt_class1(point):\n",
    "    if point[0]<0.0:\n",
    "        return [1,0]\n",
    "    else:\n",
    "        return [0,1]"
   ]
  },
  {
   "cell_type": "code",
   "execution_count": 104,
   "metadata": {},
   "outputs": [],
   "source": [
    "# Circle\n",
    "import math\n",
    "\n",
    "def gt_class2(point):\n",
    "    x = point[0]\n",
    "    y = point[1]\n",
    "    dist = math.sqrt(x**2+y**2)\n",
    "    if dist<0.5:\n",
    "        return [1,0]\n",
    "    else:\n",
    "        return [0,1]"
   ]
  },
  {
   "cell_type": "code",
   "execution_count": 105,
   "metadata": {},
   "outputs": [],
   "source": [
    "# Diagonal\n",
    "import math\n",
    "\n",
    "def gt_class3(point):\n",
    "    x = point[0]\n",
    "    y = point[1]\n",
    "    if x*1.0+y*1.0<0.5:\n",
    "        return [1,0]\n",
    "    else:\n",
    "        return [0,1]"
   ]
  },
  {
   "cell_type": "markdown",
   "metadata": {},
   "source": [
    "Wählen Sie hier zwischen:\n",
    "\n",
    "- gt_class1\n",
    "- gt_class2\n",
    "- gt_class3\n",
    "\n",
    "um zu testen, wie gut das Perzeptron unterschiedliche Klassifikationsprobleme lösen kann."
   ]
  },
  {
   "cell_type": "code",
   "execution_count": 106,
   "metadata": {},
   "outputs": [],
   "source": [
    "gt_class = gt_class2"
   ]
  },
  {
   "cell_type": "code",
   "execution_count": 107,
   "metadata": {},
   "outputs": [
    {
     "data": {
      "text/plain": [
       "[0, 1]"
      ]
     },
     "execution_count": 107,
     "metadata": {},
     "output_type": "execute_result"
    }
   ],
   "source": [
    "gt_class((-0.5,1.0))"
   ]
  },
  {
   "cell_type": "code",
   "execution_count": 108,
   "metadata": {},
   "outputs": [
    {
     "data": {
      "text/plain": [
       "[0, 1]"
      ]
     },
     "execution_count": 108,
     "metadata": {},
     "output_type": "execute_result"
    }
   ],
   "source": [
    "gt_class((-0.5,-1.0))"
   ]
  },
  {
   "cell_type": "code",
   "execution_count": 109,
   "metadata": {},
   "outputs": [
    {
     "data": {
      "text/plain": [
       "[0, 1]"
      ]
     },
     "execution_count": 109,
     "metadata": {},
     "output_type": "execute_result"
    }
   ],
   "source": [
    "gt_class((+0.1,-1.0))"
   ]
  },
  {
   "cell_type": "code",
   "execution_count": 110,
   "metadata": {},
   "outputs": [
    {
     "data": {
      "text/plain": [
       "[1, 0]"
      ]
     },
     "execution_count": 110,
     "metadata": {},
     "output_type": "execute_result"
    }
   ],
   "source": [
    "gt_class((+0.1,-.1))"
   ]
  },
  {
   "cell_type": "code",
   "execution_count": 111,
   "metadata": {},
   "outputs": [
    {
     "name": "stdout",
     "output_type": "stream",
     "text": [
      "[0.0516565  0.78703554] [0, 1]\n",
      "[0.35910097 0.3064884 ] [1, 0]\n",
      "[0.13864001 0.72813462] [0, 1]\n",
      "[0.95752532 0.69394892] [0, 1]\n",
      "[-0.87809823  0.31798195] [0, 1]\n",
      "[ 0.58643025 -0.2129803 ] [0, 1]\n",
      "[0.0690399  0.72441755] [0, 1]\n",
      "[-0.33738107  0.04784141] [1, 0]\n",
      "[-0.77807652  0.80828144] [0, 1]\n",
      "[0.95295203 0.92346011] [0, 1]\n"
     ]
    }
   ],
   "source": [
    "for p in data_x[:10]:\n",
    "    print(p, gt_class(p))"
   ]
  },
  {
   "cell_type": "code",
   "execution_count": 112,
   "metadata": {},
   "outputs": [],
   "source": [
    "data_y = [gt_class(p) for p in data_x]"
   ]
  },
  {
   "cell_type": "code",
   "execution_count": 113,
   "metadata": {},
   "outputs": [
    {
     "data": {
      "text/plain": [
       "[[0, 1],\n",
       " [1, 0],\n",
       " [0, 1],\n",
       " [0, 1],\n",
       " [0, 1],\n",
       " [0, 1],\n",
       " [0, 1],\n",
       " [1, 0],\n",
       " [0, 1],\n",
       " [0, 1]]"
      ]
     },
     "execution_count": 113,
     "metadata": {},
     "output_type": "execute_result"
    }
   ],
   "source": [
    "data_y[:10]"
   ]
  },
  {
   "cell_type": "code",
   "execution_count": 114,
   "metadata": {},
   "outputs": [],
   "source": [
    "data_y = np.array( [gt_class(p) for p in data_x ] )"
   ]
  },
  {
   "cell_type": "code",
   "execution_count": 115,
   "metadata": {},
   "outputs": [
    {
     "data": {
      "text/plain": [
       "numpy.ndarray"
      ]
     },
     "execution_count": 115,
     "metadata": {},
     "output_type": "execute_result"
    }
   ],
   "source": [
    "type(data_y)"
   ]
  },
  {
   "cell_type": "code",
   "execution_count": 116,
   "metadata": {},
   "outputs": [
    {
     "data": {
      "text/plain": [
       "(1000, 2)"
      ]
     },
     "execution_count": 116,
     "metadata": {},
     "output_type": "execute_result"
    }
   ],
   "source": [
    "data_y.shape"
   ]
  },
  {
   "cell_type": "code",
   "execution_count": 117,
   "metadata": {},
   "outputs": [],
   "source": [
    "colors = [np.argmax(row) for row in data_y]"
   ]
  },
  {
   "cell_type": "code",
   "execution_count": 118,
   "metadata": {},
   "outputs": [
    {
     "data": {
      "text/plain": [
       "[1, 0, 1, 1, 1, 1, 1, 0, 1, 1]"
      ]
     },
     "execution_count": 118,
     "metadata": {},
     "output_type": "execute_result"
    }
   ],
   "source": [
    "colors[:10]"
   ]
  },
  {
   "cell_type": "code",
   "execution_count": 119,
   "metadata": {},
   "outputs": [
    {
     "data": {
      "image/png": "[encoded data removed]",
      "text/plain": [
       "<Figure size 432x288 with 1 Axes>"
      ]
     },
     "metadata": {
      "needs_background": "light"
     },
     "output_type": "display_data"
    }
   ],
   "source": [
    "import matplotlib.pyplot as plt\n",
    "plt.scatter(data_x[:,0], data_x[:,1], c=colors)\n",
    "plt.show()"
   ]
  },
  {
   "cell_type": "code",
   "execution_count": 120,
   "metadata": {},
   "outputs": [],
   "source": [
    "def generate_example_data(how_much):\n",
    "    min_coord = -1.0\n",
    "    max_coord = +1.0\n",
    "    data_x = np.random.uniform(min_coord,max_coord, (how_much, 2))\n",
    "    data_y = np.array( [gt_class(p) for p in data_x ] )\n",
    "    return data_x, data_y"
   ]
  },
  {
   "cell_type": "markdown",
   "metadata": {},
   "source": [
    "# Trainings- und Testdaten erzeugen"
   ]
  },
  {
   "cell_type": "code",
   "execution_count": 121,
   "metadata": {},
   "outputs": [],
   "source": [
    "data_x, data_y = generate_example_data(1000)"
   ]
  },
  {
   "cell_type": "code",
   "execution_count": 122,
   "metadata": {},
   "outputs": [
    {
     "data": {
      "text/plain": [
       "(1000, 2)"
      ]
     },
     "execution_count": 122,
     "metadata": {},
     "output_type": "execute_result"
    }
   ],
   "source": [
    "data_x.shape"
   ]
  },
  {
   "cell_type": "code",
   "execution_count": 123,
   "metadata": {},
   "outputs": [
    {
     "data": {
      "text/plain": [
       "(1000, 2)"
      ]
     },
     "execution_count": 123,
     "metadata": {},
     "output_type": "execute_result"
    }
   ],
   "source": [
    "data_y.shape"
   ]
  },
  {
   "cell_type": "code",
   "execution_count": 124,
   "metadata": {},
   "outputs": [],
   "source": [
    "N = int(data_x.shape[0] * 0.8)"
   ]
  },
  {
   "cell_type": "code",
   "execution_count": 125,
   "metadata": {},
   "outputs": [
    {
     "data": {
      "text/plain": [
       "800"
      ]
     },
     "execution_count": 125,
     "metadata": {},
     "output_type": "execute_result"
    }
   ],
   "source": [
    "N"
   ]
  },
  {
   "cell_type": "code",
   "execution_count": 126,
   "metadata": {},
   "outputs": [],
   "source": [
    "x_train = data_x[:N]\n",
    "y_train = data_y[:N]\n",
    "x_test  = data_x[N:]\n",
    "y_test  = data_y[N:]"
   ]
  },
  {
   "cell_type": "code",
   "execution_count": 127,
   "metadata": {},
   "outputs": [
    {
     "data": {
      "text/plain": [
       "(800, 2)"
      ]
     },
     "execution_count": 127,
     "metadata": {},
     "output_type": "execute_result"
    }
   ],
   "source": [
    "x_train.shape"
   ]
  },
  {
   "cell_type": "code",
   "execution_count": 128,
   "metadata": {},
   "outputs": [
    {
     "data": {
      "text/plain": [
       "(800, 2)"
      ]
     },
     "execution_count": 128,
     "metadata": {},
     "output_type": "execute_result"
    }
   ],
   "source": [
    "y_train.shape"
   ]
  },
  {
   "cell_type": "code",
   "execution_count": 129,
   "metadata": {},
   "outputs": [
    {
     "data": {
      "text/plain": [
       "(200, 2)"
      ]
     },
     "execution_count": 129,
     "metadata": {},
     "output_type": "execute_result"
    }
   ],
   "source": [
    "x_test.shape"
   ]
  },
  {
   "cell_type": "code",
   "execution_count": 130,
   "metadata": {},
   "outputs": [
    {
     "data": {
      "text/plain": [
       "(200, 2)"
      ]
     },
     "execution_count": 130,
     "metadata": {},
     "output_type": "execute_result"
    }
   ],
   "source": [
    "y_test.shape"
   ]
  },
  {
   "cell_type": "markdown",
   "metadata": {},
   "source": [
    "# Netz aufbauen und trainieren"
   ]
  },
  {
   "cell_type": "code",
   "execution_count": 131,
   "metadata": {},
   "outputs": [],
   "source": [
    "n_inputs = 2+1\n",
    "n_outputs = 2\n",
    "W = create_new_perceptron(n_inputs,n_outputs)"
   ]
  },
  {
   "cell_type": "code",
   "execution_count": 132,
   "metadata": {},
   "outputs": [
    {
     "data": {
      "text/plain": [
       "(3, 2)"
      ]
     },
     "execution_count": 132,
     "metadata": {},
     "output_type": "execute_result"
    }
   ],
   "source": [
    "W.shape"
   ]
  },
  {
   "cell_type": "code",
   "execution_count": 133,
   "metadata": {},
   "outputs": [
    {
     "data": {
      "text/plain": [
       "array([[-0.26379509, -0.39316447],\n",
       "       [-0.47830953,  0.39336071],\n",
       "       [-0.40146256, -0.87678493]])"
      ]
     },
     "execution_count": 133,
     "metadata": {},
     "output_type": "execute_result"
    }
   ],
   "source": [
    "W"
   ]
  },
  {
   "cell_type": "code",
   "execution_count": 134,
   "metadata": {},
   "outputs": [
    {
     "name": "stdout",
     "output_type": "stream",
     "text": [
      "Korrekt: 43 von 200\n"
     ]
    },
    {
     "data": {
      "text/plain": [
       "0.215"
      ]
     },
     "execution_count": 134,
     "metadata": {},
     "output_type": "execute_result"
    }
   ],
   "source": [
    "test_perceptron(W, x_test, y_test)"
   ]
  },
  {
   "cell_type": "code",
   "execution_count": 135,
   "metadata": {},
   "outputs": [
    {
     "name": "stdout",
     "output_type": "stream",
     "text": [
      "\n",
      "Train step:  0\n",
      "Korrekt: 43 von 200\n",
      "\n",
      "Train step:  100\n",
      "Korrekt: 45 von 200\n",
      "\n",
      "Train step:  200\n",
      "Korrekt: 107 von 200\n",
      "\n",
      "Train step:  300\n",
      "Korrekt: 146 von 200\n",
      "\n",
      "Train step:  400\n",
      "Korrekt: 151 von 200\n",
      "\n",
      "Train step:  500\n",
      "Korrekt: 151 von 200\n",
      "\n",
      "Train step:  600\n",
      "Korrekt: 156 von 200\n",
      "\n",
      "Train step:  700\n",
      "Korrekt: 157 von 200\n",
      "\n",
      "Train step:  800\n",
      "Korrekt: 157 von 200\n",
      "\n",
      "Train step:  900\n",
      "Korrekt: 157 von 200\n"
     ]
    }
   ],
   "source": [
    "alpha = 0.01\n",
    "nr_train_steps = 1000\n",
    "history = train_perceptron(W,\n",
    "                           x_train, y_train,\n",
    "                           x_test, y_test,\n",
    "                           nr_train_steps,\n",
    "                           alpha)"
   ]
  },
  {
   "cell_type": "markdown",
   "metadata": {},
   "source": [
    "# Netz testen"
   ]
  },
  {
   "cell_type": "code",
   "execution_count": 136,
   "metadata": {},
   "outputs": [
    {
     "data": {
      "text/plain": [
       "(200, 2)"
      ]
     },
     "execution_count": 136,
     "metadata": {},
     "output_type": "execute_result"
    }
   ],
   "source": [
    "x_test.shape"
   ]
  },
  {
   "cell_type": "code",
   "execution_count": 137,
   "metadata": {},
   "outputs": [
    {
     "data": {
      "text/plain": [
       "array([[-0.61488235,  0.08539668],\n",
       "       [-0.11688599, -0.84889908],\n",
       "       [-0.05325411,  0.1136113 ],\n",
       "       [ 0.58136918,  0.11374048],\n",
       "       [ 0.99867506,  0.19467087]])"
      ]
     },
     "execution_count": 137,
     "metadata": {},
     "output_type": "execute_result"
    }
   ],
   "source": [
    "x_test[:5]"
   ]
  },
  {
   "cell_type": "code",
   "execution_count": 138,
   "metadata": {},
   "outputs": [
    {
     "data": {
      "text/plain": [
       "(200, 2)"
      ]
     },
     "execution_count": 138,
     "metadata": {},
     "output_type": "execute_result"
    }
   ],
   "source": [
    "y_test.shape"
   ]
  },
  {
   "cell_type": "code",
   "execution_count": 139,
   "metadata": {},
   "outputs": [
    {
     "data": {
      "text/plain": [
       "array([[0, 1],\n",
       "       [0, 1],\n",
       "       [1, 0],\n",
       "       [0, 1],\n",
       "       [0, 1]])"
      ]
     },
     "execution_count": 139,
     "metadata": {},
     "output_type": "execute_result"
    }
   ],
   "source": [
    "y_test[:5]"
   ]
  },
  {
   "cell_type": "code",
   "execution_count": 140,
   "metadata": {},
   "outputs": [
    {
     "data": {
      "image/png": "[encoded data removed]",
      "text/plain": [
       "<Figure size 432x288 with 1 Axes>"
      ]
     },
     "metadata": {
      "needs_background": "light"
     },
     "output_type": "display_data"
    }
   ],
   "source": [
    "plt.scatter(x_test[:,0], x_test[:,1], color=\"black\")\n",
    "plt.show()"
   ]
  },
  {
   "cell_type": "code",
   "execution_count": 141,
   "metadata": {},
   "outputs": [],
   "source": [
    "all_outputs = []\n",
    "for row_vec in x_test:\n",
    "    x = np.append(row_vec,[1])\n",
    "    out = predict(W,x)\n",
    "    all_outputs.append( out )"
   ]
  },
  {
   "cell_type": "code",
   "execution_count": 142,
   "metadata": {},
   "outputs": [
    {
     "data": {
      "text/plain": [
       "[array([0.23371915, 0.77906653]),\n",
       " array([0.26407465, 0.74043536]),\n",
       " array([0.20933183, 0.79323023]),\n",
       " array([0.18349537, 0.80754044]),\n",
       " array([0.16212567, 0.82126434]),\n",
       " array([0.28722501, 0.72905408]),\n",
       " array([0.2546697 , 0.74530024]),\n",
       " array([0.21785381, 0.77139649]),\n",
       " array([0.21951784, 0.79049086]),\n",
       " array([0.21681981, 0.79808871])]"
      ]
     },
     "execution_count": 142,
     "metadata": {},
     "output_type": "execute_result"
    }
   ],
   "source": [
    "all_outputs[:10]"
   ]
  },
  {
   "cell_type": "code",
   "execution_count": 143,
   "metadata": {},
   "outputs": [],
   "source": [
    "colors = [np.argmax(outarray) for outarray in all_outputs]"
   ]
  },
  {
   "cell_type": "code",
   "execution_count": 144,
   "metadata": {},
   "outputs": [
    {
     "data": {
      "text/plain": [
       "[1, 1, 1, 1, 1, 1, 1, 1, 1, 1, 1, 1, 1, 1, 1, 1, 1, 1, 1, 1]"
      ]
     },
     "execution_count": 144,
     "metadata": {},
     "output_type": "execute_result"
    }
   ],
   "source": [
    "colors[:20]"
   ]
  },
  {
   "cell_type": "code",
   "execution_count": 145,
   "metadata": {},
   "outputs": [
    {
     "data": {
      "image/png": "[encoded data removed]",
      "text/plain": [
       "<Figure size 432x288 with 1 Axes>"
      ]
     },
     "metadata": {
      "needs_background": "light"
     },
     "output_type": "display_data"
    }
   ],
   "source": [
    "plt.scatter(x_test[:,0], x_test[:,1], c=colors)\n",
    "plt.show()"
   ]
  },
  {
   "cell_type": "code",
   "execution_count": null,
   "metadata": {},
   "outputs": [],
   "source": []
  }
 ],
 "metadata": {
  "kernelspec": {
   "display_name": "Python 3 (ipykernel)",
   "language": "python",
   "name": "python3"
  },
  "language_info": {
   "codemirror_mode": {
    "name": "ipython",
    "version": 3
   },
   "file_extension": ".py",
   "mimetype": "text/x-python",
   "name": "python",
   "nbconvert_exporter": "python",
   "pygments_lexer": "ipython3",
   "version": "3.9.7"
  },
  "toc": {
   "base_numbering": 1,
   "nav_menu": {},
   "number_sections": true,
   "sideBar": true,
   "skip_h1_title": false,
   "title_cell": "Inhaltsverzeichnis",
   "title_sidebar": "Inhalte",
   "toc_cell": true,
   "toc_position": {
    "height": "calc(100% - 180px)",
    "left": "10px",
    "top": "150px",
    "width": "165px"
   },
   "toc_section_display": true,
   "toc_window_display": true
  }
 },
 "nbformat": 4,
 "nbformat_minor": 4
}
