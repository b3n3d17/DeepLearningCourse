{
 "cells": [
  {
   "cell_type": "markdown",
   "metadata": {},
   "source": [
    "# Manual differentiation"
   ]
  },
  {
   "cell_type": "code",
   "execution_count": 1,
   "metadata": {},
   "outputs": [],
   "source": [
    "import numpy as np\n",
    "\n",
    "def f(x1,x2):\n",
    "    return x1*x2+np.sin(x1)"
   ]
  },
  {
   "cell_type": "code",
   "execution_count": 2,
   "metadata": {},
   "outputs": [
    {
     "data": {
      "text/plain": [
       "2.8414709848078967"
      ]
     },
     "execution_count": 2,
     "metadata": {},
     "output_type": "execute_result"
    }
   ],
   "source": [
    "f(1,2)"
   ]
  },
  {
   "cell_type": "code",
   "execution_count": 3,
   "metadata": {},
   "outputs": [],
   "source": [
    "def manual_dfdx1(x1,x2):\n",
    "    return x2+np.cos(x1)\n",
    "\n",
    "def manual_dfdx2(x1,x2):\n",
    "    return x1"
   ]
  },
  {
   "cell_type": "code",
   "execution_count": 4,
   "metadata": {},
   "outputs": [
    {
     "data": {
      "text/plain": [
       "2.5403023058681398"
      ]
     },
     "execution_count": 4,
     "metadata": {},
     "output_type": "execute_result"
    }
   ],
   "source": [
    "manual_dfdx1(1,2)"
   ]
  },
  {
   "cell_type": "code",
   "execution_count": 5,
   "metadata": {},
   "outputs": [
    {
     "data": {
      "text/plain": [
       "1"
      ]
     },
     "execution_count": 5,
     "metadata": {},
     "output_type": "execute_result"
    }
   ],
   "source": [
    "manual_dfdx2(1,2)"
   ]
  },
  {
   "cell_type": "markdown",
   "metadata": {},
   "source": [
    "# Symbolic differentiation"
   ]
  },
  {
   "cell_type": "markdown",
   "metadata": {},
   "source": [
    "## Symbolic computation of the derivative"
   ]
  },
  {
   "cell_type": "code",
   "execution_count": 7,
   "metadata": {},
   "outputs": [],
   "source": [
    "from sympy import *"
   ]
  },
  {
   "cell_type": "code",
   "execution_count": 8,
   "metadata": {},
   "outputs": [],
   "source": [
    "x1 = Symbol('x1')\n",
    "x2 = Symbol('x2')\n",
    "g = x1*x2+sin(x1)"
   ]
  },
  {
   "cell_type": "code",
   "execution_count": 9,
   "metadata": {},
   "outputs": [
    {
     "data": {
      "text/plain": [
       "sympy.core.symbol.Symbol"
      ]
     },
     "execution_count": 9,
     "metadata": {},
     "output_type": "execute_result"
    }
   ],
   "source": [
    "type(x1)"
   ]
  },
  {
   "cell_type": "code",
   "execution_count": 10,
   "metadata": {},
   "outputs": [
    {
     "data": {
      "text/plain": [
       "sympy.core.add.Add"
      ]
     },
     "execution_count": 10,
     "metadata": {},
     "output_type": "execute_result"
    }
   ],
   "source": [
    "type(g)"
   ]
  },
  {
   "cell_type": "code",
   "execution_count": 11,
   "metadata": {},
   "outputs": [],
   "source": [
    "sym_dgdx1 = diff(g,x1)"
   ]
  },
  {
   "cell_type": "code",
   "execution_count": 12,
   "metadata": {},
   "outputs": [
    {
     "data": {
      "text/plain": [
       "sympy.core.add.Add"
      ]
     },
     "execution_count": 12,
     "metadata": {},
     "output_type": "execute_result"
    }
   ],
   "source": [
    "type(sym_dgdx1)"
   ]
  },
  {
   "cell_type": "code",
   "execution_count": 13,
   "metadata": {},
   "outputs": [],
   "source": [
    "sym_dgdx2 = diff(g,x2)"
   ]
  },
  {
   "cell_type": "code",
   "execution_count": 14,
   "metadata": {},
   "outputs": [
    {
     "data": {
      "text/plain": [
       "sympy.core.symbol.Symbol"
      ]
     },
     "execution_count": 14,
     "metadata": {},
     "output_type": "execute_result"
    }
   ],
   "source": [
    "type(sym_dgdx2)"
   ]
  },
  {
   "cell_type": "code",
   "execution_count": 15,
   "metadata": {},
   "outputs": [
    {
     "name": "stdout",
     "output_type": "stream",
     "text": [
      "g(x1,x2) = x1*x2 + sin(x1)\n",
      "dg/dx1   = x2 + cos(x1)\n",
      "dg/dx2   = x1\n"
     ]
    }
   ],
   "source": [
    "print(\"g(x1,x2) = \"+str(g))\n",
    "print(\"dg/dx1   = \"+str(sym_dgdx1))\n",
    "print(\"dg/dx2   = \"+str(sym_dgdx2))"
   ]
  },
  {
   "cell_type": "code",
   "execution_count": 16,
   "metadata": {},
   "outputs": [
    {
     "name": "stdout",
     "output_type": "stream",
     "text": [
      "dg/dx1 (1.0,2.0) = 2.54030230586814\n",
      "dg/dx2 (1.0,2.0) = 1.00000000000000\n"
     ]
    }
   ],
   "source": [
    "print(\"dg/dx1 (1.0,2.0) = \" + str(sym_dgdx1.evalf(subs={x1: 1.0, x2:2.0})))\n",
    "print(\"dg/dx2 (1.0,2.0) = \" + str(sym_dgdx2.evalf(subs={x1: 1.0, x2:2.0})) )"
   ]
  },
  {
   "cell_type": "markdown",
   "metadata": {},
   "source": [
    "## Simplification of functions is possible as well"
   ]
  },
  {
   "cell_type": "code",
   "execution_count": 18,
   "metadata": {},
   "outputs": [
    {
     "name": "stdout",
     "output_type": "stream",
     "text": [
      "g = <function f at 0x7f4aec6c8a60>\n",
      "simplified = y + 1\n"
     ]
    }
   ],
   "source": [
    "x = Symbol('x')\n",
    "y = Symbol('y')\n",
    "g = (x+x*y)/x\n",
    "print(\"g = \"+str(f))\n",
    "print(\"simplified = \"+str(simplify(g)))"
   ]
  },
  {
   "cell_type": "markdown",
   "metadata": {},
   "source": [
    "## Limits of symbolic differentiation"
   ]
  },
  {
   "cell_type": "code",
   "execution_count": 19,
   "metadata": {},
   "outputs": [],
   "source": [
    "import numpy as np\n",
    "\n",
    "def h(x1,x2):\n",
    "    result = 0\n",
    "    if x1<=x2: # x1*x2 + sin(x1)\n",
    "        result = x1*x2+np.sin(x1)        \n",
    "    else: # pi + x1*x2 + 5*x1^2\n",
    "        result = np.pi;\n",
    "        result += x1*x2;\n",
    "        for i in range(0,5):\n",
    "            result += x1**2\n",
    "    return result"
   ]
  },
  {
   "cell_type": "code",
   "execution_count": 20,
   "metadata": {},
   "outputs": [
    {
     "data": {
      "text/plain": [
       "2.8414709848078967"
      ]
     },
     "execution_count": 20,
     "metadata": {},
     "output_type": "execute_result"
    }
   ],
   "source": [
    "f(1,2)"
   ]
  },
  {
   "cell_type": "code",
   "execution_count": 21,
   "metadata": {},
   "outputs": [
    {
     "data": {
      "text/plain": [
       "2.8414709848078967"
      ]
     },
     "execution_count": 21,
     "metadata": {},
     "output_type": "execute_result"
    }
   ],
   "source": [
    "h(1,2)"
   ]
  },
  {
   "cell_type": "code",
   "execution_count": 22,
   "metadata": {},
   "outputs": [
    {
     "data": {
      "text/plain": [
       "2.909297426825682"
      ]
     },
     "execution_count": 22,
     "metadata": {},
     "output_type": "execute_result"
    }
   ],
   "source": [
    "f(2,1)"
   ]
  },
  {
   "cell_type": "code",
   "execution_count": 23,
   "metadata": {},
   "outputs": [
    {
     "data": {
      "text/plain": [
       "25.141592653589793"
      ]
     },
     "execution_count": 23,
     "metadata": {},
     "output_type": "execute_result"
    }
   ],
   "source": [
    "h(2,1)"
   ]
  },
  {
   "cell_type": "markdown",
   "metadata": {},
   "source": [
    "# Numerical differentiation"
   ]
  },
  {
   "cell_type": "code",
   "execution_count": 24,
   "metadata": {},
   "outputs": [],
   "source": [
    "def numerical_dhdx1(x1,x2):\n",
    "    s = 0.00001\n",
    "    return (h(x1+s,x2) - h(x1,x2)) / s"
   ]
  },
  {
   "cell_type": "code",
   "execution_count": 25,
   "metadata": {},
   "outputs": [
    {
     "data": {
      "text/plain": [
       "2.5402980984967627"
      ]
     },
     "execution_count": 25,
     "metadata": {},
     "output_type": "execute_result"
    }
   ],
   "source": [
    "numerical_dhdx1(1,2)"
   ]
  },
  {
   "cell_type": "code",
   "execution_count": 26,
   "metadata": {},
   "outputs": [
    {
     "data": {
      "text/plain": [
       "2.5403023058681398"
      ]
     },
     "execution_count": 26,
     "metadata": {},
     "output_type": "execute_result"
    }
   ],
   "source": [
    "manual_dfdx1(1,2)"
   ]
  },
  {
   "cell_type": "markdown",
   "metadata": {},
   "source": [
    "We can see that the numerical approximation of the derivative of function h with respect to x1 at point (1,2) is not exactly the same what we would get with the actual derived formulas for the derivative."
   ]
  },
  {
   "cell_type": "markdown",
   "metadata": {},
   "source": [
    "Perhaps, s was too large!"
   ]
  },
  {
   "cell_type": "code",
   "execution_count": 27,
   "metadata": {},
   "outputs": [
    {
     "name": "stdout",
     "output_type": "stream",
     "text": [
      "numerical_dhdx1(1,2,0.10000000000000000555) = 2.49736375253538867014\n",
      "numerical_dhdx1(1,2,0.01000000000000000021) = 2.53608598101182636242\n",
      "numerical_dhdx1(1,2,0.00100000000000000002) = 2.53988148035988459128\n",
      "numerical_dhdx1(1,2,0.00010000000000000000) = 2.54026023141840084918\n",
      "numerical_dhdx1(1,2,0.00001000000000000000) = 2.54029809849676269096\n",
      "numerical_dhdx1(1,2,0.00000100000000000000) = 2.54030188484577434949\n",
      "numerical_dhdx1(1,2,0.00000010000000000000) = 2.54030226187751351219\n",
      "numerical_dhdx1(1,2,0.00000001000000000000) = 2.54030227964108190619\n",
      "numerical_dhdx1(1,2,0.00000000100000000000) = 2.54030219082323949209\n",
      "numerical_dhdx1(1,2,0.00000000010000000000) = 2.54030130264481979196\n",
      "numerical_dhdx1(1,2,0.00000000001000000000) = 2.54027909818432728883\n",
      "numerical_dhdx1(1,2,0.00000000000100000000) = 2.54019028034235772040\n",
      "numerical_dhdx1(1,2,0.00000000000010000000) = 2.53574938824385709424\n",
      "numerical_dhdx1(1,2,0.00000000000001000000) = 2.53130849614535646808\n",
      "numerical_dhdx1(1,2,0.00000000000000100000) = 2.66453525910037569702\n",
      "numerical_dhdx1(1,2,0.00000000000000010000) = 0.00000000000000000000\n",
      "numerical_dhdx1(1,2,0.00000000000000001000) = 0.00000000000000000000\n",
      "numerical_dhdx1(1,2,0.00000000000000000100) = 0.00000000000000000000\n",
      "numerical_dhdx1(1,2,0.00000000000000000010) = 0.00000000000000000000\n"
     ]
    }
   ],
   "source": [
    "def numerical_dhdx1(x1,x2,s):\n",
    "    return (h(x1+s,x2) - h(x1,x2)) / s\n",
    "\n",
    "\n",
    "s = 1.0\n",
    "for i in range(1,20):\n",
    "    s = s/10.0\n",
    "    print(\"numerical_dhdx1(1,2,{0:.20f}) = {1:.20f}\".\n",
    "          format(s, numerical_dhdx1(1,2,s))\n",
    "         )"
   ]
  },
  {
   "cell_type": "markdown",
   "metadata": {},
   "source": [
    "# Automatic differentiation"
   ]
  },
  {
   "cell_type": "markdown",
   "metadata": {},
   "source": [
    "## Forward mode autodiff"
   ]
  },
  {
   "cell_type": "markdown",
   "metadata": {},
   "source": [
    "### Simple example"
   ]
  },
  {
   "cell_type": "code",
   "execution_count": 28,
   "metadata": {},
   "outputs": [
    {
     "name": "stdout",
     "output_type": "stream",
     "text": [
      "Result according to forward mode autodiff\n",
      "df/dx1 (1,2)=2.5403023058681398\n",
      "Result according to manual differation:\n",
      "df/dx1 (1,2)=2.5403023058681398\n"
     ]
    }
   ],
   "source": [
    "import numpy as np\n",
    "\n",
    "def f(x1,x2):\n",
    "    \"\"\"\n",
    "    f(x1,x2)=x1*x2+sin(x1)\n",
    "    \"\"\"\n",
    "    w1 = x1\n",
    "    dw1 = 1\n",
    "    \n",
    "    w2 = x2\n",
    "    dw2 = 0\n",
    "    \n",
    "    w3 = w1*w2\n",
    "    dw3 = dw1 * w2 + w1 * dw2\n",
    "    \n",
    "    w4 = np.sin(w1)\n",
    "    dw4 = np.cos(w1) * dw1\n",
    "    \n",
    "    w5 = w3 + w4\n",
    "    dw5 = dw3 + dw4\n",
    "    \n",
    "    return w5, dw5\n",
    "\n",
    "val, deriv = f(1,2)\n",
    "print(\"Result according to forward mode autodiff\")\n",
    "print(\"df/dx1 (1,2)=\" + str(deriv))\n",
    "\n",
    "print(\"Result according to manual differation:\")\n",
    "# Manual derivation: df/dx1 = x2 + cos(x1)\n",
    "print(\"df/dx1 (1,2)=\" + str(2 + np.cos(1)))"
   ]
  },
  {
   "cell_type": "code",
   "execution_count": 29,
   "metadata": {},
   "outputs": [
    {
     "name": "stdout",
     "output_type": "stream",
     "text": [
      "Result according to forward mode autodiff\n",
      "df/dx2 (1,2)=1.0\n",
      "Result according to manual differation:\n",
      "df/dx2 (1,2)=1\n"
     ]
    }
   ],
   "source": [
    "import numpy as np\n",
    "\n",
    "def f(x1,x2):\n",
    "    \"\"\"\n",
    "    f(x1,x2)=x1*x2+sin(x1)\n",
    "    \"\"\"\n",
    "    w1 = x1\n",
    "    dw1 = 0 # changed this ...\n",
    "    \n",
    "    w2 = x2\n",
    "    dw2 = 1 # ... and that\n",
    "    \n",
    "    w3 = w1*w2\n",
    "    dw3 = dw1 * w2 + w1 * dw2\n",
    "    \n",
    "    w4 = np.sin(w1)\n",
    "    dw4 = np.cos(w1) * dw1\n",
    "    \n",
    "    w5 = w3 + w4\n",
    "    dw5 = dw3 + dw4\n",
    "    \n",
    "    return w5, dw5\n",
    "\n",
    "val, deriv = f(1,2)\n",
    "print(\"Result according to forward mode autodiff\")\n",
    "print(\"df/dx2 (1,2)=\" + str(deriv))\n",
    "\n",
    "print(\"Result according to manual differation:\")\n",
    "# Manual derivation: df/dx2 = x1\n",
    "print(\"df/dx2 (1,2)=\" + str(1))"
   ]
  },
  {
   "cell_type": "markdown",
   "metadata": {},
   "source": [
    "### Complex example with loops:"
   ]
  },
  {
   "cell_type": "code",
   "execution_count": 30,
   "metadata": {},
   "outputs": [],
   "source": [
    "import numpy as np\n",
    "\n",
    "def h(x1,x2):    \n",
    "    result = 0\n",
    "    if x1<=x2:\n",
    "        # h(x1,x2):=x1*x2 + sin(x1)\n",
    "        # Manual differentiation:\n",
    "        # dh/dx1 = x2 + cos(x1)\n",
    "        # dh/dx2 = x1\n",
    "        result = x1*x2+np.sin(x1)        \n",
    "    else: \n",
    "        # h(x1,x2):=pi + x1*x2 + 5*x1^2\n",
    "        # Manual differentiation:\n",
    "        # dh/dx1 = x2+10*x1\n",
    "        # dh/dx2 = x1\n",
    "        result = np.pi;\n",
    "        result += x1*x2;\n",
    "        for i in range(0,5):\n",
    "            result += x1**2\n",
    "    return result"
   ]
  },
  {
   "cell_type": "code",
   "execution_count": 31,
   "metadata": {},
   "outputs": [
    {
     "data": {
      "text/plain": [
       "2.8414709848078967"
      ]
     },
     "execution_count": 31,
     "metadata": {},
     "output_type": "execute_result"
    }
   ],
   "source": [
    "h(1,2)"
   ]
  },
  {
   "cell_type": "code",
   "execution_count": 44,
   "metadata": {},
   "outputs": [
    {
     "data": {
      "text/plain": [
       "2.8414709848078967"
      ]
     },
     "execution_count": 44,
     "metadata": {},
     "output_type": "execute_result"
    }
   ],
   "source": [
    "1*2+np.sin(1)"
   ]
  },
  {
   "cell_type": "code",
   "execution_count": 32,
   "metadata": {},
   "outputs": [
    {
     "data": {
      "text/plain": [
       "25.141592653589793"
      ]
     },
     "execution_count": 32,
     "metadata": {},
     "output_type": "execute_result"
    }
   ],
   "source": [
    "h(2,1)"
   ]
  },
  {
   "cell_type": "code",
   "execution_count": 46,
   "metadata": {},
   "outputs": [
    {
     "data": {
      "text/plain": [
       "25.141592653589793"
      ]
     },
     "execution_count": 46,
     "metadata": {},
     "output_type": "execute_result"
    }
   ],
   "source": [
    "np.pi+2*1+5*(2**2)"
   ]
  },
  {
   "cell_type": "markdown",
   "metadata": {},
   "source": [
    "Now we reformulate the computation in function h with the w-notation:"
   ]
  },
  {
   "cell_type": "code",
   "execution_count": 33,
   "metadata": {},
   "outputs": [],
   "source": [
    "import numpy as np\n",
    "\n",
    "def h(x1,x2):   \n",
    "    w1 = x1\n",
    "    w2 = x2\n",
    "    \n",
    "    if x1<=x2:\n",
    "        # h(x1,x2):=x1*x2 + sin(x1)\n",
    "        # Manual differentiation:\n",
    "        # dh/dx1 = x2 + cos(x1)\n",
    "        # dh/dx2 = x1\n",
    "        w3 = w1*w2\n",
    "        w4 = np.sin(w1)\n",
    "        w5 = w3+w4\n",
    "        return w5\n",
    "        \n",
    "    else: \n",
    "        # h(x1,x2):=pi + x1*x2 + 5*x1^2\n",
    "        # Manual differentiation:\n",
    "        # dh/dx1 = x2+10*x1\n",
    "        # dh/dx2 = x1\n",
    "        w3 = np.pi\n",
    "        w4 = w1*w2\n",
    "        w5 = w3+w4\n",
    "        \n",
    "        w6 = 0\n",
    "        for i in range(0,5):\n",
    "            w7 = w1**2\n",
    "            w6 = w6+w7\n",
    "            \n",
    "        w8 = w5+w6\n",
    "        return w8"
   ]
  },
  {
   "cell_type": "code",
   "execution_count": 34,
   "metadata": {},
   "outputs": [
    {
     "data": {
      "text/plain": [
       "2.8414709848078967"
      ]
     },
     "execution_count": 34,
     "metadata": {},
     "output_type": "execute_result"
    }
   ],
   "source": [
    "h(1,2)"
   ]
  },
  {
   "cell_type": "code",
   "execution_count": 35,
   "metadata": {},
   "outputs": [
    {
     "data": {
      "text/plain": [
       "25.141592653589793"
      ]
     },
     "execution_count": 35,
     "metadata": {},
     "output_type": "execute_result"
    }
   ],
   "source": [
    "h(2,1)"
   ]
  },
  {
   "cell_type": "markdown",
   "metadata": {},
   "source": [
    "Now let us augment the code, such that we can compute the partial derivatives with the forward mode:"
   ]
  },
  {
   "cell_type": "code",
   "execution_count": 48,
   "metadata": {},
   "outputs": [],
   "source": [
    "import numpy as np\n",
    "\n",
    "def h(x1,x2):   \n",
    "    w1 = x1\n",
    "    w2 = x2\n",
    "    dw1 = 1\n",
    "    dw2 = 0\n",
    "    \n",
    "    if x1<=x2:\n",
    "        # h(x1,x2):=x1*x2 + sin(x1)\n",
    "        # Manual differentiation:\n",
    "        # dh/dx1 = x2 + cos(x1)\n",
    "        # dh/dx2 = x1\n",
    "        w3 = w1*w2\n",
    "        dw3 = dw1*w2 + w1*dw2\n",
    "        \n",
    "        w4 = np.sin(w1)\n",
    "        dw4 = np.cos(w1)*dw1\n",
    "        \n",
    "        w5 = w3+w4\n",
    "        dw5 = dw3+dw4\n",
    "        \n",
    "        return w5,dw5\n",
    "        \n",
    "    else: \n",
    "        # h(x1,x2):=pi + x1*x2 + 5*x1^2\n",
    "        # Manual differentiation:\n",
    "        # dh/dx1 = x2+10*x1\n",
    "        # dh/dx2 = x1\n",
    "        w3 = np.pi\n",
    "        dw3 = 0\n",
    "        \n",
    "        w4 = w1*w2\n",
    "        dw4 = dw1*w2 + w1*dw2\n",
    "        \n",
    "        w5 = w3+w4\n",
    "        dw5 = dw3+dw4\n",
    "        \n",
    "        w6 = 0\n",
    "        dw6 = 0\n",
    "        \n",
    "        for i in range(0,5):\n",
    "            w7 = w1**2\n",
    "            dw7 = 2*w1\n",
    "            \n",
    "            w6 = w6+w7\n",
    "            dw6 = dw6+dw7\n",
    "            \n",
    "        w8 = w5+w6\n",
    "        dw8 = dw5+dw6\n",
    "        \n",
    "        return w8, dw8"
   ]
  },
  {
   "cell_type": "code",
   "execution_count": 49,
   "metadata": {},
   "outputs": [
    {
     "data": {
      "text/plain": [
       "(2.8414709848078967, 2.5403023058681398)"
      ]
     },
     "execution_count": 49,
     "metadata": {},
     "output_type": "execute_result"
    }
   ],
   "source": [
    "h(1,2)"
   ]
  },
  {
   "cell_type": "code",
   "execution_count": 50,
   "metadata": {},
   "outputs": [
    {
     "data": {
      "text/plain": [
       "2.5403023058681398"
      ]
     },
     "execution_count": 50,
     "metadata": {},
     "output_type": "execute_result"
    }
   ],
   "source": [
    "# dh/dx1 = x2 + cos(x1)\n",
    "2+np.cos(1)"
   ]
  },
  {
   "cell_type": "code",
   "execution_count": 51,
   "metadata": {},
   "outputs": [
    {
     "data": {
      "text/plain": [
       "(25.141592653589793, 21)"
      ]
     },
     "execution_count": 51,
     "metadata": {},
     "output_type": "execute_result"
    }
   ],
   "source": [
    "h(2,1)"
   ]
  },
  {
   "cell_type": "code",
   "execution_count": 52,
   "metadata": {},
   "outputs": [
    {
     "data": {
      "text/plain": [
       "21"
      ]
     },
     "execution_count": 52,
     "metadata": {},
     "output_type": "execute_result"
    }
   ],
   "source": [
    "# dh/dx1 = x2+10*x1\n",
    "1+10*2"
   ]
  },
  {
   "cell_type": "markdown",
   "metadata": {},
   "source": [
    "## Reverse mode autodiff"
   ]
  },
  {
   "cell_type": "markdown",
   "metadata": {},
   "source": [
    "### Simple example"
   ]
  },
  {
   "cell_type": "markdown",
   "metadata": {},
   "source": [
    "Let us take our old function f() as an example:"
   ]
  },
  {
   "cell_type": "code",
   "execution_count": 53,
   "metadata": {},
   "outputs": [],
   "source": [
    "import numpy as np\n",
    "def f(x1,x2):\n",
    "    return x1*x2+np.sin(x1)"
   ]
  },
  {
   "cell_type": "code",
   "execution_count": 54,
   "metadata": {},
   "outputs": [
    {
     "data": {
      "text/plain": [
       "2.8414709848078967"
      ]
     },
     "execution_count": 54,
     "metadata": {},
     "output_type": "execute_result"
    }
   ],
   "source": [
    "f(1,2)"
   ]
  },
  {
   "cell_type": "markdown",
   "metadata": {},
   "source": [
    "Let us rewrite it with the w-notation:"
   ]
  },
  {
   "cell_type": "code",
   "execution_count": 55,
   "metadata": {},
   "outputs": [],
   "source": [
    "def f(x1,x2):\n",
    "    \n",
    "    # forward step\n",
    "    w1 = x1\n",
    "    w2 = x2\n",
    "    w3 = w1*w2\n",
    "    w4 = np.sin(w1)\n",
    "    w5 = w3+w4\n",
    "    \n",
    "    return w5"
   ]
  },
  {
   "cell_type": "code",
   "execution_count": 56,
   "metadata": {},
   "outputs": [
    {
     "data": {
      "text/plain": [
       "2.8414709848078967"
      ]
     },
     "execution_count": 56,
     "metadata": {},
     "output_type": "execute_result"
    }
   ],
   "source": [
    "f(1,2)"
   ]
  },
  {
   "cell_type": "markdown",
   "metadata": {},
   "source": [
    "Now let us add the computation nodes for the dy/dw's:"
   ]
  },
  {
   "cell_type": "code",
   "execution_count": 57,
   "metadata": {},
   "outputs": [],
   "source": [
    "def f(x1,x2):\n",
    "    \n",
    "    # forward step\n",
    "    w1 = x1\n",
    "    w2 = x2\n",
    "    w3 = w1*w2\n",
    "    w4 = np.sin(w1)\n",
    "    w5 = w3+w4\n",
    "    \n",
    "    # backward step\n",
    "    _w5 = 1\n",
    "    _w4 = _w5*1\n",
    "    _w3 = _w5*1\n",
    "    _w2 = _w3*w1\n",
    "    \n",
    "    _w1a = _w3*w2\n",
    "    _w1b = _w4*np.cos(w1)\n",
    "    _w1 = _w1a+_w1b\n",
    "    \n",
    "    return w5,_w1,_w2"
   ]
  },
  {
   "cell_type": "code",
   "execution_count": 58,
   "metadata": {},
   "outputs": [
    {
     "data": {
      "text/plain": [
       "(2.8414709848078967, 2.5403023058681398, 1)"
      ]
     },
     "execution_count": 58,
     "metadata": {},
     "output_type": "execute_result"
    }
   ],
   "source": [
    "f(1,2)"
   ]
  },
  {
   "cell_type": "markdown",
   "metadata": {},
   "source": [
    "Both derivatives df/dx1=2.540302 and df/dx2=1.0 are correct."
   ]
  },
  {
   "cell_type": "markdown",
   "metadata": {},
   "source": [
    "### Complex example"
   ]
  },
  {
   "cell_type": "code",
   "execution_count": 59,
   "metadata": {},
   "outputs": [],
   "source": [
    "def f(x1,x2):\n",
    "    \n",
    "    # forward step\n",
    "    w1 = x1\n",
    "    w2 = x2\n",
    "    w3 = w1*w2\n",
    "    w4 = np.sin(w1)\n",
    "    w5 = w3*w4  # CHANGED note! now: multiplication!\n",
    "    \n",
    "    # backward step\n",
    "    _w5 = 1\n",
    "    _w4 = _w5*w3 # CHANGED\n",
    "    _w3 = _w5*w4 # CHANGED\n",
    "    _w2 = _w3*w1\n",
    "    \n",
    "    _w1a = _w3*w2\n",
    "    _w1b = _w4*np.cos(w1)\n",
    "    _w1 = _w1a+_w1b\n",
    "    \n",
    "    return w5,_w1,_w2"
   ]
  },
  {
   "cell_type": "code",
   "execution_count": 60,
   "metadata": {},
   "outputs": [
    {
     "data": {
      "text/plain": [
       "(1.682941969615793, 2.7635465813520725, 0.8414709848078965)"
      ]
     },
     "execution_count": 60,
     "metadata": {},
     "output_type": "execute_result"
    }
   ],
   "source": [
    "f(1,2)"
   ]
  },
  {
   "cell_type": "code",
   "execution_count": null,
   "metadata": {},
   "outputs": [],
   "source": []
  }
 ],
 "metadata": {
  "kernelspec": {
   "display_name": "Python 3 (ipykernel)",
   "language": "python",
   "name": "python3"
  },
  "language_info": {
   "codemirror_mode": {
    "name": "ipython",
    "version": 3
   },
   "file_extension": ".py",
   "mimetype": "text/x-python",
   "name": "python",
   "nbconvert_exporter": "python",
   "pygments_lexer": "ipython3",
   "version": "3.9.7"
  },
  "toc": {
   "base_numbering": 1,
   "nav_menu": {},
   "number_sections": true,
   "sideBar": true,
   "skip_h1_title": false,
   "title_cell": "Table of Contents",
   "title_sidebar": "Contents",
   "toc_cell": true,
   "toc_position": {
    "height": "calc(100% - 180px)",
    "left": "10px",
    "top": "150px",
    "width": "184px"
   },
   "toc_section_display": true,
   "toc_window_display": true
  },
  "toc-autonumbering": true
 },
 "nbformat": 4,
 "nbformat_minor": 4
}
